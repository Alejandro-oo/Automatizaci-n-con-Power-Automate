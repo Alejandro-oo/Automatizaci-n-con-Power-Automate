{
  "cells": [
    {
      "cell_type": "markdown",
      "metadata": {
        "id": "view-in-github",
        "colab_type": "text"
      },
      "source": [
        "<a href=\"https://colab.research.google.com/github/Alejandro-oo/Automatizacion-con-Power-Automate/blob/main/Trabajo_del_M%C3%B3dulo_Python_for_Analytics_resolver.ipynb\" target=\"_parent\"><img src=\"https://colab.research.google.com/assets/colab-badge.svg\" alt=\"Open In Colab\"/></a>"
      ]
    },
    {
      "cell_type": "markdown",
      "metadata": {
        "id": "sjx-cCS2qjXB"
      },
      "source": [
        "# Trabajo del Módulo Python for Analytics\n"
      ]
    },
    {
      "cell_type": "markdown",
      "metadata": {
        "id": "FC1OCQkAS7LX"
      },
      "source": [
        "## Parte 1: ***Introducción***"
      ]
    },
    {
      "cell_type": "markdown",
      "metadata": {
        "id": "qrEk-1nZxXiW"
      },
      "source": [
        "**Ejercicio 1**\n",
        "\n",
        "Empecemos con algo simple. Determina el resultado de las siguientes operaciones a partir de las siguientes variables. Ademá, identifica el tipo de dato de las variables a, b, c y d.\n",
        "```python\n",
        "a = 10\n",
        "b = -5\n",
        "c = \"Hola \"\n",
        "d = [1, 2, 3]\n",
        "```\n",
        "```python\n",
        "print(a * 5)  \n",
        "print(a - b)    \n",
        "print(c + \"Mundo\")   \n",
        "print(c * 2)        \n",
        "print(c[-1])        \n",
        "print(c[1:])    \n",
        "print(d + d)       \n",
        "```"
      ]
    },
    {
      "cell_type": "code",
      "execution_count": 12,
      "metadata": {
        "id": "-ONSxhx4xXiX"
      },
      "outputs": [],
      "source": [
        "# Desarrollo del Ejercicio 1\n",
        "a = 10\n",
        "b = -5\n",
        "c = \"Hola\"\n",
        "d = [1, 2, 3]"
      ]
    },
    {
      "cell_type": "code",
      "source": [
        "print(a * 5)\n",
        "print(a - b)\n",
        "print(c + \"Mundo\")\n",
        "print(c * 2)\n",
        "print(c[-1])\n",
        "print(c[1:])\n",
        "print(d + d)"
      ],
      "metadata": {
        "colab": {
          "base_uri": "https://localhost:8080/"
        },
        "id": "l_MYGpt6y8Q-",
        "outputId": "dd9f733e-e655-45bc-f95e-dca459ca2989"
      },
      "execution_count": 13,
      "outputs": [
        {
          "output_type": "stream",
          "name": "stdout",
          "text": [
            "50\n",
            "15\n",
            "HolaMundo\n",
            "HolaHola\n",
            "a\n",
            "ola\n",
            "[1, 2, 3, 1, 2, 3]\n"
          ]
        }
      ]
    },
    {
      "cell_type": "code",
      "source": [
        "type(a),type(b),type(c),type(d)"
      ],
      "metadata": {
        "colab": {
          "base_uri": "https://localhost:8080/"
        },
        "id": "Euf7BnLZzY-n",
        "outputId": "824f51fc-353a-464c-86a7-52be7064fa9e"
      },
      "execution_count": 5,
      "outputs": [
        {
          "output_type": "execute_result",
          "data": {
            "text/plain": [
              "(int, int, str, list)"
            ]
          },
          "metadata": {},
          "execution_count": 5
        }
      ]
    },
    {
      "cell_type": "markdown",
      "metadata": {
        "id": "veBNArNsS7LZ"
      },
      "source": [
        "**Ejercicio 2**\n",
        "\n",
        "Escribir un programa que realice la siguiente operación aritmética $\\left(\\frac{3+2}{2 \\cdot  5}\\right)^2$"
      ]
    },
    {
      "cell_type": "code",
      "execution_count": 14,
      "metadata": {
        "id": "p7qPRfvQS7LZ"
      },
      "outputs": [],
      "source": [
        "# Desarrollo del Ejercicio 2\n",
        "n = 3\n",
        "p = 2\n",
        "o = 5"
      ]
    },
    {
      "cell_type": "code",
      "source": [
        "respuesta = ((n+p)/(p*o))**p\n",
        "print(respuesta)"
      ],
      "metadata": {
        "colab": {
          "base_uri": "https://localhost:8080/"
        },
        "id": "kroxKb832mMH",
        "outputId": "348b282f-8c4d-4705-a5aa-36997ee3b2c2"
      },
      "execution_count": 15,
      "outputs": [
        {
          "output_type": "stream",
          "name": "stdout",
          "text": [
            "0.25\n"
          ]
        }
      ]
    },
    {
      "cell_type": "markdown",
      "metadata": {
        "id": "-QhlUxb-xXiY"
      },
      "source": [
        "**Ejercicio 3**\n",
        "\n",
        "El siguiente código pretende realizar una media entre 3 números, pero no funciona correctamente. ¿Eres capaz de identificar el problema y solucionarlo?"
      ]
    },
    {
      "cell_type": "code",
      "execution_count": null,
      "metadata": {
        "id": "mOZBy1xxxXiZ",
        "outputId": "2a643161-3131-44f8-c4c1-cbcba99ff491"
      },
      "outputs": [
        {
          "name": "stdout",
          "output_type": "stream",
          "text": [
            "La nota media es 14.0\n"
          ]
        }
      ],
      "source": [
        "numero_1 = 9\n",
        "numero_2 = 3\n",
        "numero_3 = 6\n",
        "\n",
        "media = numero_1 + numero_2 + numero_3 / 3\n",
        "print(\"La nota media es\", media)"
      ]
    },
    {
      "cell_type": "code",
      "execution_count": 16,
      "metadata": {
        "colab": {
          "base_uri": "https://localhost:8080/"
        },
        "id": "Xp6oWVCQxXia",
        "outputId": "41e53da4-a891-40f9-f70c-d3d09a45b498"
      },
      "outputs": [
        {
          "output_type": "stream",
          "name": "stdout",
          "text": [
            "La nota media es 6.0\n"
          ]
        }
      ],
      "source": [
        "# Desarrollo del Ejercicio 3\n",
        "numero_1 = 9\n",
        "numero_2 = 3\n",
        "numero_3 = 6\n",
        "\n",
        "media = (numero_1 + numero_2 + numero_3) / 3\n",
        "print(\"La nota media es\", media)"
      ]
    },
    {
      "cell_type": "markdown",
      "metadata": {
        "id": "b9DLcIKpS7LZ"
      },
      "source": [
        "**Ejercicio 4**\n",
        "\n",
        "Escribir un programa que lea un entero porsitivo, $n$, introducido por el usuario y después muestre en pantalla la suma de todos los enteros desde 1 hasta $n$. La suma de los $n$ primeros enteros positivos puede ser calculada de la siguiente forma:\n",
        "\n",
        "$$ \\mbox{suma} = \\frac{n(n+1)}{2} $$\n",
        "\n",
        "*Introduzca un número entero: 5* <br>\n",
        "*La suma de los primeros números enteros desde 1 hasta 5 es 15.0*"
      ]
    },
    {
      "cell_type": "code",
      "execution_count": 19,
      "metadata": {
        "id": "YiXcczoCS7La",
        "colab": {
          "base_uri": "https://localhost:8080/"
        },
        "outputId": "255c3ccc-ed66-4d34-9102-ff916b9db7a2"
      },
      "outputs": [
        {
          "output_type": "stream",
          "name": "stdout",
          "text": [
            "Introduzca un número entero: 5\n",
            "La suma de los primeros números enteros desde 1 hasta 5 es 15.0\n"
          ]
        }
      ],
      "source": [
        "# Desarrollo del Ejercicio 4\n",
        "n = int(input(\"Introduzca un número entero: \"))\n",
        "suma = n * (n + 1) / 2\n",
        "print(f\"La suma de los primeros números enteros desde 1 hasta {n} es {suma}\")"
      ]
    },
    {
      "cell_type": "markdown",
      "metadata": {
        "id": "fd5gsyBES7La"
      },
      "source": [
        "**Ejercicio 5**\n",
        "\n",
        "Queremos calcular el promedio final ponderado de 3 notas y mostrarlo en pantalla. Estos son los pesos:\n",
        "\n",
        "* La primera nota vale un 15% del total\n",
        "* La segunda nota vale un 35% del total\n",
        "* La tercera nota vale un 50% del total\n",
        "\n",
        "Desarrolla un código para calcular correctamente la nota final, teniendo en cuenta que las notas de un alumno son 18, 14 y 12."
      ]
    },
    {
      "cell_type": "code",
      "execution_count": 23,
      "metadata": {
        "id": "2J-TjuKBS7La",
        "colab": {
          "base_uri": "https://localhost:8080/"
        },
        "outputId": "2bcde09f-e1aa-43f7-94bd-b5295226bdbb"
      },
      "outputs": [
        {
          "output_type": "stream",
          "name": "stdout",
          "text": [
            "La nota final ponderada es: 13.6\n"
          ]
        }
      ],
      "source": [
        "# Desarrollo del Ejercicio 5\n",
        "Nota1 = 18\n",
        "Nota2 = 14\n",
        "Nota3 = 12\n",
        "\n",
        "promedio =Nota1 * 0.15 + Nota2 * 0.35 + Nota3 * 0.50\n",
        "print(f\"La nota final ponderada es: {promedio}\")"
      ]
    },
    {
      "cell_type": "markdown",
      "metadata": {
        "id": "T5jljadHS7Le"
      },
      "source": [
        "## Parte 2: ***Operaciones con Strings***"
      ]
    },
    {
      "cell_type": "markdown",
      "metadata": {
        "id": "4PGMZoL0S7Le"
      },
      "source": [
        "**Ejercicio 1**\n",
        "\n",
        "Escribir un programa que pregunte el nombre del usuario en la consola y después de que el usuario lo introduzca muestre por pantalla el nombre en mayúsculas y el número de caracteres que contiene en líneas distintas. Por ejemplo:\n",
        "\n",
        "<i>¿Cómo te llamas? Felipe<br>\n",
        "FELIPE tiene 6 letras</i>"
      ]
    },
    {
      "cell_type": "code",
      "execution_count": 27,
      "metadata": {
        "id": "yx7TyStqS7Le",
        "colab": {
          "base_uri": "https://localhost:8080/"
        },
        "outputId": "498dcf0e-ff8a-4e70-e370-5ee7dd370b9c"
      },
      "outputs": [
        {
          "output_type": "stream",
          "name": "stdout",
          "text": [
            "¿Cómo te llamas?Alexander\n",
            "ALEXANDER\n",
            "ALEXANDER tiene 9 letras\n"
          ]
        }
      ],
      "source": [
        "# Desarrollo del Ejercicio 1\n",
        "nombre = input(\"¿Cómo te llamas?\")\n",
        "print(nombre.upper())\n",
        "print(f\"{nombre.upper()} tiene {len(nombre)} letras\")"
      ]
    },
    {
      "cell_type": "markdown",
      "metadata": {
        "id": "HfXoEPjES7Le"
      },
      "source": [
        "**Ejercicio 2**\n",
        "\n",
        "Dado el siguiente texto, limpiar todo signo de interrogación y puntuación. Finalmente convertir a minúscula y mostrarlo en pantalla. Además de ello mencione el largo de la cadena de caracteres. Ayuda use  en t , t.replace('¿', '').replace(..) puede seguir completando para eliminar lo que haga faltar y cerrar el codigo con .lower()"
      ]
    },
    {
      "cell_type": "code",
      "execution_count": 29,
      "metadata": {
        "id": "tdgm6ogkS7Lf",
        "colab": {
          "base_uri": "https://localhost:8080/"
        },
        "outputId": "811e031a-7135-4003-df51-54a48a9235b9"
      },
      "outputs": [
        {
          "output_type": "stream",
          "name": "stdout",
          "text": [
            "en dónde trabajas cuánta experiencia tienes por qué has tenido 5 trabajos en solo 2 años\n",
            "Largo de la cadena: 88\n"
          ]
        }
      ],
      "source": [
        "t = '¿En dónde trabajas?, ¿CUÁNTA EXPERIENCIA TIENES?, ¿Por qué has tenido 5 trabajos en solo 2 años?.'\n",
        "\n",
        "# Desarrollo del Ejercicio 2\n",
        "t = '¿En dónde trabajas?, ¿CUÁNTA EXPERIENCIA TIENES?, ¿Por qué has tenido 5 trabajos en solo 2 años?.'\n",
        "limpiara = t.replace('¿', '').replace('¡', '').replace('?', '').replace('!', '').replace(',', '').replace('.', '').lower()\n",
        "print(limpiara)\n",
        "print(f\"Largo de la cadena: {len(limpiara)}\")\n"
      ]
    },
    {
      "cell_type": "markdown",
      "metadata": {
        "id": "NVWXMk98S7Lg"
      },
      "source": [
        "**Ejercicio 3**\n",
        "\n",
        "Ejecute el siguiente código y diga con sus palabras que es lo que hace. Ingrese su respuesta como un comentario en el código."
      ]
    },
    {
      "cell_type": "code",
      "execution_count": 53,
      "metadata": {
        "id": "lD0eUNigS7Lh",
        "colab": {
          "base_uri": "https://localhost:8080/",
          "height": 35
        },
        "outputId": "da9fec5e-94ec-457a-8536-a7c80e966e39"
      },
      "outputs": [
        {
          "output_type": "execute_result",
          "data": {
            "text/plain": [
              "'DMC'"
            ],
            "application/vnd.google.colaboratory.intrinsic+json": {
              "type": "string"
            }
          },
          "metadata": {},
          "execution_count": 53
        }
      ],
      "source": [
        "str_ex2=\"Curso_DMC\"\n",
        "str_ex2[str_ex2.index(\"_\")+1:]\n"
      ]
    },
    {
      "cell_type": "code",
      "execution_count": null,
      "metadata": {
        "id": "4H-6JxONxXic"
      },
      "outputs": [],
      "source": [
        "# El codigo define una cadena de texto conteniendo \"Curso_DMC\"\n",
        "# Busca el signo \"_\" el cual se encuentra en la posición 5 que cuenta desde el cero"
      ]
    },
    {
      "cell_type": "markdown",
      "metadata": {
        "id": "95kU4KxqS7Lf"
      },
      "source": [
        "**Ejercicio 4**\n",
        "\n",
        "Al realizar una consulta en un registro hemos obtenido una cadena de texto corrupta al revés.\n",
        "Al parecer contiene el nombre de un alumno y la nota de un exámen.\n",
        "¿Cómo podríamos formatear la cadena y conseguir una estructura como la siguiente?:\n",
        "\n",
        "* ***Nombre*** ***Apellido*** ha sacado un ***Nota*** de nota.\n",
        "\n",
        "*Ayuda: Para voltear una cadena rápidamente utilizando slicing podemos utilizar un tercer índice -1: cadena[::-1]*"
      ]
    },
    {
      "cell_type": "code",
      "execution_count": 59,
      "metadata": {
        "id": "KiYd8R80S7Lf",
        "colab": {
          "base_uri": "https://localhost:8080/"
        },
        "outputId": "af1fb8a2-66c8-4a6e-d156-5894a76bf9a0"
      },
      "outputs": [
        {
          "output_type": "stream",
          "name": "stdout",
          "text": [
            "Pepe Pérez ha sacado un 18, de nota.\n"
          ]
        }
      ],
      "source": [
        "cadena = \"epeP zeréP ,81\" [::-1]\n",
        "muestra = cadena.split()\n",
        "nombre=muestra[-1]\n",
        "apellido = muestra[-2]\n",
        "nota =muestra[-3]\n",
        "print(f\"{nombre} {apellido} ha sacado un {nota} de nota.\")"
      ]
    },
    {
      "cell_type": "markdown",
      "metadata": {
        "id": "naJ2-zO-S7Lg"
      },
      "source": [
        "**Ejercicio 5**\n",
        "\n",
        "Supongamos que tenemos los siguientes datos:\n",
        "\n",
        "- **nombre**: Nataly Silva\n",
        "- **edad**: 18\n",
        "- **direccion**: Av. República de Panamá 3055\n",
        "- **pais**: Perú\n",
        "- **ingreso**: 3500\n",
        "- **gastos**: 1820.50\n",
        "\n",
        "\n",
        "Escribe código para que, tras guardar los datos en variables, se imprima por pantalla:\n",
        "\n",
        "`'Nataly Silva, de 18 años y domicilio en Av. República de Panamá 3055 Perú, tiene restante de su ingreso tras los gastos 1679.50'`"
      ]
    },
    {
      "cell_type": "code",
      "execution_count": 60,
      "metadata": {
        "id": "NTTAfEmTS7Lg",
        "colab": {
          "base_uri": "https://localhost:8080/"
        },
        "outputId": "46d6d0c1-8683-46be-a9a8-daa158cf3a1b"
      },
      "outputs": [
        {
          "output_type": "stream",
          "name": "stdout",
          "text": [
            "Nataly Silva, de 18 años y domicilio en Av. República de Panamá 3055 Perú, tiene restante de su ingreso tras los gastos 1679.5\n"
          ]
        }
      ],
      "source": [
        "nombre = \"Nataly Silva\"\n",
        "edad = 18\n",
        "direccion = \"Av. República de Panamá 3055\"\n",
        "pais = \"Perú\"\n",
        "ingreso = 3500\n",
        "gastos = 1820.50\n",
        "restante = ingreso - gastos\n",
        "print(f\"{nombre}, de {edad} años y domicilio en {direccion} {pais}, tiene restante de su ingreso tras los gastos {restante}\")"
      ]
    },
    {
      "cell_type": "markdown",
      "metadata": {
        "id": "7q67A4rBS7Lh"
      },
      "source": [
        "## Parte 3: ***Estructuras de control***"
      ]
    },
    {
      "cell_type": "markdown",
      "metadata": {
        "id": "FCC199yNS7Lh"
      },
      "source": [
        "**Ejercicio 1**\n",
        "\n",
        "Escribir un programa que pida al usuario dos números y muestre por pantalla su división. Si el divisor es cero el programa debe mostrar un mensaje de error usando un condicional."
      ]
    },
    {
      "cell_type": "code",
      "execution_count": 61,
      "metadata": {
        "id": "QkBoC9CIS7Lh",
        "colab": {
          "base_uri": "https://localhost:8080/"
        },
        "outputId": "47b86829-76cd-42f9-a381-64afd4886c75"
      },
      "outputs": [
        {
          "output_type": "stream",
          "name": "stdout",
          "text": [
            "Ingrese el primer numero: 10\n",
            "Ingrese el segundo numero: 20\n",
            "El resultado de la división es: 0.5\n"
          ]
        }
      ],
      "source": [
        "n1 = float(input(\"Ingrese el primer numero: \"))\n",
        "n2 = float(input(\"Ingrese el segundo numero: \"))\n",
        "\n",
        "if n2 == 0:\n",
        "    print(\"Error: No se puede dividir por cero.\")\n",
        "else:\n",
        "    resultado = n1 / n2\n",
        "    print(f\"El resultado de la división es: {resultado}\")"
      ]
    },
    {
      "cell_type": "markdown",
      "metadata": {
        "id": "NmcZqgyGS7Lh"
      },
      "source": [
        "**Ejercicio 2**\n",
        "\n",
        "Escriba una sentencia for para calcular la suma de todos los números entre el 1 y el 100. Es decir, 1+2+3+....+99+100\n"
      ]
    },
    {
      "cell_type": "code",
      "execution_count": 63,
      "metadata": {
        "id": "y6ds3rTAS7Li",
        "colab": {
          "base_uri": "https://localhost:8080/"
        },
        "outputId": "81568c0e-2e6f-4bfa-90ab-4c9e3df4cb2f"
      },
      "outputs": [
        {
          "output_type": "stream",
          "name": "stdout",
          "text": [
            "La suma de los números del 1 al 100 es: 5050\n"
          ]
        }
      ],
      "source": [
        "suma = 0\n",
        "for i in range(1, 101):\n",
        "    suma += i  # Va sumando cada número del 1 al 100\n",
        "\n",
        "print(\"La suma de los números del 1 al 100 es:\", suma)"
      ]
    },
    {
      "cell_type": "markdown",
      "metadata": {
        "id": "eaPJwOGsS7Li"
      },
      "source": [
        "**Ejercicio 3**\n",
        "\n",
        " Escriba una sentencia para calcular la suma de todos los números pares entre el 1 y el 100, y luego otra para calcular la suma de los números impares."
      ]
    },
    {
      "cell_type": "code",
      "execution_count": 64,
      "metadata": {
        "id": "6KvKUq09S7Lj",
        "colab": {
          "base_uri": "https://localhost:8080/"
        },
        "outputId": "1bd246da-37a5-443a-a013-5e21319715db"
      },
      "outputs": [
        {
          "output_type": "stream",
          "name": "stdout",
          "text": [
            "La suma de los números pares del 1 al 100 es: 2550\n"
          ]
        }
      ],
      "source": [
        "suma_de_pares = 0\n",
        "for i in range(2, 101, 2):  # Empieza en 2, hasta 100, de 2 en 2\n",
        "    suma_de_pares += i\n",
        "\n",
        "print(\"La suma de los números pares del 1 al 100 es:\", suma_de_pares)\n"
      ]
    },
    {
      "cell_type": "markdown",
      "metadata": {
        "id": "yUfBcxkfS7Lj"
      },
      "source": [
        "**Ejercicio 4**\n",
        "\n",
        "Ingrese un número entero y muestra si el número es:\n",
        "- Positivo\n",
        "- Negativo\n",
        "- Igual a cero"
      ]
    },
    {
      "cell_type": "code",
      "execution_count": 67,
      "metadata": {
        "id": "a7Kbc2ZqS7Lj",
        "colab": {
          "base_uri": "https://localhost:8080/"
        },
        "outputId": "01ab8dc8-6bea-46be-8df0-fb30f0eff72f"
      },
      "outputs": [
        {
          "output_type": "stream",
          "name": "stdout",
          "text": [
            "Ingrese un número entero: 0\n",
            "El número es igual a cero.\n"
          ]
        }
      ],
      "source": [
        "Numero = int(input(\"Ingrese un número entero: \"))\n",
        "\n",
        "if Numero > 0:\n",
        "    print(\"El número es positivo.\")\n",
        "elif Numero < 0:\n",
        "    print(\"El número es negativo.\")\n",
        "else:\n",
        "    print(\"El número es igual a cero.\")\n"
      ]
    },
    {
      "cell_type": "markdown",
      "source": [],
      "metadata": {
        "id": "NIQW6_4RKfzC"
      }
    },
    {
      "cell_type": "markdown",
      "metadata": {
        "id": "TFeTWdsqxXie"
      },
      "source": [
        "**Ejercicio 5**\n",
        "\n",
        "Ingrese 5 números. Al finalizar, muestra el mayor y el menor de los números ingresados."
      ]
    },
    {
      "cell_type": "code",
      "execution_count": 68,
      "metadata": {
        "colab": {
          "base_uri": "https://localhost:8080/"
        },
        "id": "O_XSIIrtxXie",
        "outputId": "f160c147-ade2-44de-9432-10fdeca4c49c"
      },
      "outputs": [
        {
          "output_type": "stream",
          "name": "stdout",
          "text": [
            "Ingrese el número 1: 10\n",
            "Ingrese el número 2: 20\n",
            "Ingrese el número 3: 30\n",
            "Ingrese el número 4: 40\n",
            "Ingrese el número 5: 50\n",
            "El número mayor es: 50.0\n",
            "El número menor es: 10.0\n"
          ]
        }
      ],
      "source": [
        "Numeros = []\n",
        "\n",
        "#Solicita el ingreso de los numeros\n",
        "for i in range(5):\n",
        "    num = float(input(f\"Ingrese el número {i+1}: \"))\n",
        "    Numeros.append(num)\n",
        "\n",
        "# Imprime el numero mayor y menor\n",
        "print(\"El número mayor es:\", max(Numeros))\n",
        "print(\"El número menor es:\", min(Numeros))\n"
      ]
    },
    {
      "cell_type": "markdown",
      "metadata": {
        "id": "9BAfg3drxXif"
      },
      "source": [
        "## Parte 4: ***Estructuras de datos en Python***"
      ]
    },
    {
      "cell_type": "markdown",
      "metadata": {
        "id": "RvVttCUWxXif"
      },
      "source": [
        "**Ejercicio 1**\n",
        "\n",
        "**a.** Escribir un programa que pregunte al usuario 6 números, los almacene en una lista y los muestre por pantalla ordenados de menor a mayor.\n",
        "\n",
        "* Introduce un número:  46\n",
        "* Introduce un número:  25\n",
        "* Introduce un número:  32\n",
        "* Introduce un número:  15\n",
        "* Introduce un número:  9\n",
        "* Introduce un número:  21\n",
        "* Los números ingresados son [9, 15, 21, 25, 32, 46]\n"
      ]
    },
    {
      "cell_type": "code",
      "execution_count": null,
      "metadata": {
        "id": "sa4rRSjjxXif"
      },
      "outputs": [],
      "source": [
        "# Completa el ejercicio aquí"
      ]
    },
    {
      "cell_type": "markdown",
      "metadata": {
        "id": "xWY1XesVxXip"
      },
      "source": [
        "**Ejercicio 2**\n",
        "\n",
        "Genere una lista de números enteros del 1 al 99 (usando *list* y *range*) y elimine de la lista los múltiplos de 5 y de 7. Finalmente muestre el listado los números restantes."
      ]
    },
    {
      "cell_type": "code",
      "execution_count": null,
      "metadata": {
        "id": "rL4uKgnexXip"
      },
      "outputs": [],
      "source": [
        "# Completa el ejercicio aquí"
      ]
    },
    {
      "cell_type": "markdown",
      "metadata": {
        "id": "CicUnn0txXip"
      },
      "source": [
        "**Ejercicio 3**\n",
        "\n",
        "Crear los siguientes conjuntos: {a,b,c,d,e,f,g,h,i} y {a,e,i,o,u}, y realice las operaciones de unión, intersección y diferencia de conjuntos. Repita lo anterior con estos conjuntos: {1,2,3,4,5,6,7,8,9} y {1,3,5,7,9}"
      ]
    },
    {
      "cell_type": "code",
      "execution_count": null,
      "metadata": {
        "id": "IR_zCRsTxXiq"
      },
      "outputs": [],
      "source": [
        "# Completa el ejercicio aquí"
      ]
    },
    {
      "cell_type": "markdown",
      "metadata": {
        "id": "ySNeEJHixXiq"
      },
      "source": [
        "**Ejercicio 4**\n",
        "\n",
        "Usando conjuntos y listas, ingrese algunas líneas de código que permita ingresar una palabra, convertirlo en mayúscula, que elimine las vocales y queden las consonantes distintas. Finalmente debe devolver el listado de consonantes en orden descendente.\n",
        "\n",
        "* Ingresa una palabra: murciélago\n",
        "* ['R', 'M', 'L', 'G', 'C']"
      ]
    },
    {
      "cell_type": "code",
      "execution_count": null,
      "metadata": {
        "id": "M5BTZAEcxXiq"
      },
      "outputs": [],
      "source": [
        "# Completa el ejercicio aquí"
      ]
    },
    {
      "cell_type": "markdown",
      "metadata": {
        "id": "bqhTqa_VxXiq"
      },
      "source": [
        "**Ejercicio 5**\n",
        "\n",
        "Almacene en un diccionario los precios de las frutas de la siguiente tabla. Luego pregunte al usuario por una fruta, el número de kilos y muestre por pantalla el precio de ese número de kilos de fruta. Si la fruta no está en el diccionario debe mostrar un mensaje informando de ello.\n",
        "![image.png](attachment:image.png)"
      ]
    },
    {
      "cell_type": "code",
      "execution_count": null,
      "metadata": {
        "id": "mUzEV1eJxXiq"
      },
      "outputs": [],
      "source": [
        "# Completa el ejercicio aquí"
      ]
    }
  ],
  "metadata": {
    "anaconda-cloud": {},
    "colab": {
      "provenance": [],
      "include_colab_link": true
    },
    "kernelspec": {
      "display_name": "Python 3 (ipykernel)",
      "language": "python",
      "name": "python3"
    },
    "language_info": {
      "codemirror_mode": {
        "name": "ipython",
        "version": 3
      },
      "file_extension": ".py",
      "mimetype": "text/x-python",
      "name": "python",
      "nbconvert_exporter": "python",
      "pygments_lexer": "ipython3",
      "version": "3.11.3"
    }
  },
  "nbformat": 4,
  "nbformat_minor": 0
}